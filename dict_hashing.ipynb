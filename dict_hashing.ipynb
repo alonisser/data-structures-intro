{
 "cells": [
  {
   "cell_type": "markdown",
   "metadata": {},
   "source": [
    "# How to break a dict\n",
    "## And learn something on how it's implemented"
   ]
  },
  {
   "cell_type": "code",
   "execution_count": null,
   "metadata": {},
   "outputs": [],
   "source": [
    "person =  {'name':'alon','age':45, 'is_here':True}\n",
    "person['surname']\n"
   ]
  },
  {
   "cell_type": "code",
   "execution_count": null,
   "metadata": {},
   "outputs": [],
   "source": [
    "# What just happened? instead we can use the safer way with the builtin .get(key) method\n",
    "print(person.get('surname'))\n",
    "\n",
    "# Btw we can use get for a default value if missing\n",
    "\n",
    "person.get('surname', 'Israeli')\n",
    "\n",
    "if 'surname' in person:\n",
    "    print(person['surname'])\n",
    "else:\n",
    "    print('Israeli')"
   ]
  },
  {
   "cell_type": "markdown",
   "metadata": {},
   "source": [
    "## Can we use anything as a key? \n",
    "\n",
    "let's try"
   ]
  },
  {
   "cell_type": "code",
   "execution_count": null,
   "metadata": {},
   "outputs": [],
   "source": [
    "person =  {'name':'alon',[1,2]:'nisser'}"
   ]
  },
  {
   "cell_type": "markdown",
   "metadata": {},
   "source": [
    "## What just happened?\n",
    "\n",
    "Where does the unhashable come from?\n",
    "\n"
   ]
  },
  {
   "cell_type": "markdown",
   "metadata": {},
   "source": [
    "A [hashing function](https://en.wikipedia.org/wiki/Hash_function) maps data to a consistent value\n",
    "\n",
    "See [live example](https://passwordsgenerator.net/md5-hash-generator/) with the popular md5 hash\n",
    "\n",
    "**Note**:\n",
    "\n",
    "    * Hashing != cryptographic or secure\n",
    "    * Hashing != unique values\n"
   ]
  }
 ],
 "metadata": {
  "kernelspec": {
   "display_name": "Python 3",
   "language": "python",
   "name": "python3"
  },
  "language_info": {
   "codemirror_mode": {
    "name": "ipython",
    "version": 3
   },
   "file_extension": ".py",
   "mimetype": "text/x-python",
   "name": "python",
   "nbconvert_exporter": "python",
   "pygments_lexer": "ipython3",
   "version": "3.8.1"
  }
 },
 "nbformat": 4,
 "nbformat_minor": 4
}
