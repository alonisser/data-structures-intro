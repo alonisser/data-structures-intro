{
 "cells": [
  {
   "cell_type": "markdown",
   "metadata": {},
   "source": [
    "# What is a data structure\n",
    "\n",
    ">\"A data structure is a particular way of organizing data in a computer so that it can be used effectively.\"\n"
   ]
  },
  {
   "cell_type": "markdown",
   "metadata": {},
   "source": [
    "# What do they contain?\n",
    "* Primitives\n",
    "* Or.. Other data-structures"
   ]
  },
  {
   "cell_type": "markdown",
   "metadata": {},
   "source": [
    "## Primitives?\n",
    "![Aboriginal culture](./images/aboriginal-culture-and-dancing.jpg)\n",
    "\n",
    "**In programming** we call primitives the basic \"types\" the programming language expose to us. In python that would be:\n",
    "\n",
    "integers, floats, booleans and strings.\n",
    "\n",
    "The basic building blocks, values of data.\n",
    "\n",
    "Data structures build above those primitives.\n",
    "\n",
    "Specifically the data structures we talk about today are collections "
   ]
  },
  {
   "cell_type": "markdown",
   "metadata": {},
   "source": [
    "# List\n",
    "\n",
    "A python list is a **mutable**, **ordered sequence** of **items**. As such, it can be indexed, sliced, and changed. Each element can be accessed using its **position** in the list. Each element or value that is inside of a list is called an **item**\n",
    "\n"
   ]
  },
  {
   "cell_type": "code",
   "execution_count": null,
   "metadata": {},
   "outputs": [],
   "source": [
    "#with the list literal []\n",
    "my_list = [74,75]\n"
   ]
  },
  {
   "cell_type": "code",
   "execution_count": null,
   "metadata": {},
   "outputs": [],
   "source": [
    "# Using lists\n",
    "names = ['yoni', 'menashe', 'marxus']\n",
    "stuff = [1, 4, 2, 'Dorong']\n",
    "nested = [['ori','amit.y','palgi'],['amit.m','omer.s','yoni.y']]\n",
    "things = [{'name':'alon', 'age':45}]\n",
    "empty = []"
   ]
  },
  {
   "cell_type": "code",
   "execution_count": null,
   "metadata": {},
   "outputs": [],
   "source": [
    "# We can use variables in lists too\n",
    "\n",
    "first_name = 'Dani'\n",
    "second_name = 'Gal'\n",
    "third_name = 'Alon'\n",
    "fourth_name = 'Tamir'\n",
    "\n",
    "name_list = [first_name, second_name, third_name, fourth_name]"
   ]
  },
  {
   "cell_type": "code",
   "execution_count": null,
   "metadata": {},
   "outputs": [],
   "source": [
    "print(name_list)\n",
    "# Lists have a length - the number of items\n",
    "len(names)"
   ]
  },
  {
   "cell_type": "code",
   "execution_count": null,
   "metadata": {},
   "outputs": [],
   "source": [
    "# Lists are mutable, which means we can change them\n",
    "\n",
    "names.append('Tamir')\n",
    "print(names)\n",
    "len(names)"
   ]
  },
  {
   "cell_type": "code",
   "execution_count": null,
   "metadata": {},
   "outputs": [],
   "source": [
    "# We can count a specific item occurences\n",
    "names.count('tamir')"
   ]
  },
  {
   "cell_type": "code",
   "execution_count": null,
   "metadata": {},
   "outputs": [],
   "source": [
    "# We can access specific items by position\n",
    "names[0]\n",
    "names[1]"
   ]
  },
  {
   "cell_type": "code",
   "execution_count": null,
   "metadata": {},
   "outputs": [],
   "source": [
    "# As we can append we can also pop\n",
    "poped_name = names.pop()\n",
    "print(names)\n",
    "print(poped_name)"
   ]
  },
  {
   "cell_type": "code",
   "execution_count": null,
   "metadata": {},
   "outputs": [],
   "source": [
    "# lists can be sorted\n",
    "nums = [0,1, 5, 3, 7]\n",
    "nums.sort() # note this is a method on the list object\n",
    "print(nums)\n"
   ]
  },
  {
   "cell_type": "code",
   "execution_count": null,
   "metadata": {},
   "outputs": [],
   "source": [
    "# Lists can be reversed (But is doesn't always make sense)\n",
    "nums.reverse() # note this is a method on the list object\n",
    "print(nums)\n"
   ]
  },
  {
   "cell_type": "code",
   "execution_count": null,
   "metadata": {},
   "outputs": [],
   "source": [
    "# Lists can have a \"truthfull\" state\n",
    "bool(nums) == True\n",
    "bool([]) == False"
   ]
  },
  {
   "cell_type": "code",
   "execution_count": 12,
   "metadata": {},
   "outputs": [
    {
     "name": "stdout",
     "output_type": "stream",
     "text": [
      "['dog', 'cat', 'mouse', 'dragon', 'chimera']\n",
      "['dragon', 'chimera']\n"
     ]
    }
   ],
   "source": [
    "# We can add a list to another list\n",
    "first_list = ['dog','cat', 'mouse']\n",
    "second_list = ['dragon', 'chimera']\n",
    "first_list.extend(second_list)\n",
    "print(first_list)\n",
    "print(second_list)"
   ]
  },
  {
   "cell_type": "code",
   "execution_count": null,
   "metadata": {},
   "outputs": [],
   "source": [
    "# We can  slice a list by positions\n",
    "names = ['yoni', 'menashe', 'marxus']\n",
    "names[0:1] # first position - **until but not including** end position\n",
    "['yoni']\n",
    "names[0:2]\n",
    "['yoni', 'menashe']"
   ]
  },
  {
   "cell_type": "code",
   "execution_count": 5,
   "metadata": {},
   "outputs": [
    {
     "name": "stdout",
     "output_type": "stream",
     "text": [
      "[0, 2, 4, 6, 8]\n"
     ]
    }
   ],
   "source": [
    "# We can also have steps when slicing\n",
    "numbers = [0,1,2,3,4,5,6,7,8,9]\n",
    "even = numbers[0:10:2] # third params is the step\n",
    "print(even)"
   ]
  },
  {
   "cell_type": "markdown",
   "metadata": {},
   "source": [
    "# Dict (dictionary)\n",
    "\n",
    "is a **mutable**, **unordered** set of **key-value pairs** where each key must be unique. To access a given element, we must refer to it by using its key,\n"
   ]
  },
  {
   "cell_type": "code",
   "execution_count": null,
   "metadata": {},
   "outputs": [],
   "source": [
    "# Create a dict\n",
    "#with the dict literal {}\n",
    "my_dict = {\"name\":\"alon\",\"answer\":42}\n",
    "# Is the same as using the dict constructor (because it's a class)\n",
    "another_dict = dict(name='alon',answer=42)"
   ]
  },
  {
   "cell_type": "code",
   "execution_count": null,
   "metadata": {},
   "outputs": [],
   "source": [
    "person = {'name':'alon','age':45, 'is_here':True}\n",
    "print(person)\n",
    "\n",
    "# we can access by key\n",
    "print(person['name'])\n"
   ]
  },
  {
   "cell_type": "code",
   "execution_count": null,
   "metadata": {},
   "outputs": [],
   "source": [
    "#  Dicts have a length too\n",
    "\n",
    "len(person)\n",
    "3\n"
   ]
  },
  {
   "cell_type": "code",
   "execution_count": null,
   "metadata": {},
   "outputs": [],
   "source": [
    "# Dicts have keys and values\n",
    "\n",
    "\n",
    "print(f'keys: {person.keys()}')\n",
    "\n",
    "print(f'values: {person.values()}')\n",
    "\n"
   ]
  },
  {
   "cell_type": "code",
   "execution_count": null,
   "metadata": {},
   "outputs": [],
   "source": [
    "# We can add to a dict with more keys\n",
    "person['name'] = 'nisser'\n",
    "person['nicknames'] = ['karpada']\n",
    "print(person)"
   ]
  },
  {
   "cell_type": "markdown",
   "metadata": {},
   "source": [
    "## We can add dicts to dicts - it's called an update:"
   ]
  },
  {
   "cell_type": "code",
   "execution_count": null,
   "metadata": {},
   "outputs": [],
   "source": [
    "We can also update a dict (mutate it) with another dict\n",
    "\n",
    "jesse = {'username': 'JOctopus', 'online': False, 'points': 723}\n",
    "jesse.update({'followers': 481})\n",
    "print(jesse)\n",
    "{'followers': 481, 'username': 'JOctopus', 'points': 723, 'online': False}\n"
   ]
  },
  {
   "cell_type": "markdown",
   "metadata": {},
   "source": [
    "# How to break a dict\n",
    "## And learn something on how it's implemented"
   ]
  },
  {
   "cell_type": "code",
   "execution_count": null,
   "metadata": {},
   "outputs": [],
   "source": [
    "person =  {'name':'alon','age':45, 'is_here':True}\n",
    "person['surname']\n"
   ]
  },
  {
   "cell_type": "code",
   "execution_count": null,
   "metadata": {},
   "outputs": [],
   "source": [
    "# What just happened? instead we can use the safer way with the builtin .get(key) method\n",
    "person.get('surname')\n",
    "\n",
    "# Btw we can use get for a default value if missing\n",
    "\n",
    "person.get('surname', 'Israeli')"
   ]
  },
  {
   "cell_type": "markdown",
   "metadata": {},
   "source": [
    "## Can we use anything as a key? \n",
    "let's try"
   ]
  },
  {
   "cell_type": "code",
   "execution_count": null,
   "metadata": {},
   "outputs": [],
   "source": [
    "person =  {'name':'alon',[1,2]:'nisser'}"
   ]
  },
  {
   "cell_type": "markdown",
   "metadata": {},
   "source": [
    "## What just happened?\n",
    "\n",
    "Where does the unhashable come from?\n",
    "\n"
   ]
  },
  {
   "cell_type": "markdown",
   "metadata": {},
   "source": [
    "A [hashing function](https://en.wikipedia.org/wiki/Hash_function) maps data to a consistent value\n",
    "\n",
    "See [live example](https://passwordsgenerator.net/md5-hash-generator/) with the popular md5 hash\n",
    "\n",
    "**Note**:\n",
    "\n",
    "    * Hashing != cryptographic or secure\n",
    "    * Hashing != unique values\n"
   ]
  },
  {
   "cell_type": "code",
   "execution_count": null,
   "metadata": {},
   "outputs": [],
   "source": [
    "# Intermezzo - Let's play a game "
   ]
  },
  {
   "cell_type": "markdown",
   "metadata": {},
   "source": [
    "# List comprehensions and iterations\n",
    "\n",
    "A common pattern when working with collections like lists and dictionaries: we need to do a function on each item\n",
    "\n"
   ]
  },
  {
   "cell_type": "code",
   "execution_count": null,
   "metadata": {},
   "outputs": [],
   "source": [
    "names = ['dani','alon','roi','eyal', 'gal']\n",
    "for item in names:\n",
    "    print(item)\n"
   ]
  },
  {
   "cell_type": "code",
   "execution_count": null,
   "metadata": {},
   "outputs": [],
   "source": [
    "# Another common pattern is filtering lists\n",
    "\n",
    "nums = [0,1,2,3,4,5,6,7,8,9]\n",
    "even_nums = [x for x in nums if x % 2 == 0]\n",
    "print(even_nums)"
   ]
  },
  {
   "cell_type": "code",
   "execution_count": 7,
   "metadata": {},
   "outputs": [
    {
     "name": "stdout",
     "output_type": "stream",
     "text": [
      "[0, 1, 4, 9, 16, 25, 36, 49, 64, 81]\n"
     ]
    }
   ],
   "source": [
    "# mutating (mapping) alist\n",
    "nums = [0,1,2,3,4,5,6,7,8,9]\n",
    "def square(num):\n",
    "    return num * num\n",
    "square_nums = [square(x) for x in nums]\n",
    "print(square_nums)\n"
   ]
  },
  {
   "cell_type": "code",
   "execution_count": 8,
   "metadata": {},
   "outputs": [
    {
     "name": "stdout",
     "output_type": "stream",
     "text": [
      "[0, 4, 16, 36, 64]\n"
     ]
    }
   ],
   "source": [
    "# This also works \"mapping\" and filtering together\n",
    "square_nums = [x*x for x in nums if x % 2 == 0]\n",
    "print(square_nums)"
   ]
  },
  {
   "cell_type": "markdown",
   "metadata": {},
   "source": [
    "# Dict comprehensions and iterations\n"
   ]
  },
  {
   "cell_type": "code",
   "execution_count": null,
   "metadata": {},
   "outputs": [],
   "source": [
    "# We can iterate on a dict like a list\n",
    "\n",
    "person = dict(name=\"alon\", age=45)\n",
    "for key, value in person.items(): # note items which actually returns a list of \"pairs\"\n",
    "    print(key, value)\n"
   ]
  },
  {
   "cell_type": "code",
   "execution_count": 9,
   "metadata": {},
   "outputs": [
    {
     "name": "stdout",
     "output_type": "stream",
     "text": [
      "[0, 2, 4, 6, 8]\n"
     ]
    }
   ],
   "source": [
    "# Pythonic Intermezzo\n",
    "# While doing this is common coming from other langauges:\n",
    "even_nums = []\n",
    "for x in nums:\n",
    "    if x % 2 == 0:\n",
    "        even_nums.append(x)\n",
    "print(even_nums)\n",
    "# Is possible, it's not the pythonic way to do this.. but this one\n",
    "comprehension_even_nums = [x for x in nums if x % 2 == 0]\n",
    "print(comprehension_even_nums)"
   ]
  },
  {
   "cell_type": "markdown",
   "metadata": {},
   "source": [
    "## For the reader - learn how to do a dict comprehension"
   ]
  },
  {
   "cell_type": "markdown",
   "metadata": {},
   "source": [
    "# Extra reading\n",
    "\n",
    "* [lists](https://www.geeksforgeeks.org/python-list/)\n",
    "* [dicts](https://www.geeksforgeeks.org/python-dictionary/)\n",
    "* [Python docs data stuctures tutorial](https://docs.python.org/3/tutorial/datastructures.html)\n"
   ]
  },
  {
   "cell_type": "markdown",
   "metadata": {},
   "source": [
    "# Learn python!\n",
    "\n",
    "* [How to code in python book](https://www.digitalocean.com/community/books/digitalocean-ebook-how-to-code-in-python) Relevant chapters for today 22-26"
   ]
  }
 ],
 "metadata": {
  "kernelspec": {
   "display_name": "Python 3",
   "language": "python",
   "name": "python3"
  },
  "language_info": {
   "codemirror_mode": {
    "name": "ipython",
    "version": 3
   },
   "file_extension": ".py",
   "mimetype": "text/x-python",
   "name": "python",
   "nbconvert_exporter": "python",
   "pygments_lexer": "ipython3",
   "version": "3.8.1"
  }
 },
 "nbformat": 4,
 "nbformat_minor": 4
}
