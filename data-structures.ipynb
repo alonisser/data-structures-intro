{
 "cells": [
  {
   "cell_type": "markdown",
   "metadata": {},
   "source": [
    "# What is a data structure\n",
    "\n",
    ">\"A data structure is a particular way of organizing data in a computer so that it can be used effectively.\"\n"
   ]
  },
  {
   "cell_type": "markdown",
   "metadata": {},
   "source": [
    "# What do they contain?\n",
    "* Primitives\n",
    "* Or.. Other data-structures"
   ]
  },
  {
   "cell_type": "markdown",
   "metadata": {},
   "source": [
    "## Primitives?\n",
    "![Aboriginal culture](./images/aboriginal-culture-and-dancing.jpg)\n",
    "\n",
    "**In programming** we call primitives the basic \"types\" the programming language expose to us. In python that would be:\n",
    "\n",
    "integers, floats, booleans and strings.\n",
    "\n",
    "The basic building blocks, values of data.\n",
    "\n",
    "Data structures build above those primitives.\n",
    "\n",
    "Specifically the data structures we talk about today are collections "
   ]
  },
  {
   "cell_type": "markdown",
   "metadata": {},
   "source": [
    "# Wait a moment what is this strange format we're doing?\n",
    "\n",
    "Ah, great question, it's a jupyter notebook, a way to do \"[literate programming](https://en.wikipedia.org/wiki/Literate_programming)\" , \n",
    "\n",
    "Basically a way to have a \"graphical ui\" for the python runtime, instead of the cli. where you can add text (in markdown format) and control execution\n",
    "\n",
    "Clone and Read the readme of this [repo](https://github.com/alonisser/data-structures-intro) and you can run it on your own machine\n",
    "\n",
    "The notebook is made our of \"cells\" and you can  \"run\" a cell by using ctrl-enter, you can rerun a cell, \"reset\" the runtime \"kernel\"  to start over, etc\n"
   ]
  },
  {
   "cell_type": "markdown",
   "metadata": {},
   "source": [
    "# List\n",
    "\n",
    "A python list is a **mutable**, **ordered sequence** of **items**. As such, it can be indexed, sliced, and changed. Each element can be accessed using its **position** in the list. Each element or value that is inside of a list is called an **item**\n",
    "\n"
   ]
  },
  {
   "cell_type": "code",
   "execution_count": null,
   "metadata": {},
   "outputs": [],
   "source": [
    "#with the list literal []\n",
    "my_list = [74,75]\n",
    "print(my_list)"
   ]
  },
  {
   "cell_type": "code",
   "execution_count": null,
   "metadata": {},
   "outputs": [],
   "source": [
    "# Using lists\n",
    "names = ['yoni', 'menashe', 'marxus']\n",
    "stuff = [1, 4, 2, 'Dorong']\n",
    "nested = [['ori','amit.y','palgi'],['amit.m','omer.s','yoni.y']]\n",
    "things = [{'name':'alon', 'age':45}]\n",
    "empty = []\n",
    "print(things)"
   ]
  },
  {
   "cell_type": "code",
   "execution_count": null,
   "metadata": {},
   "outputs": [],
   "source": [
    "# We can use variables in lists too\n",
    "\n",
    "first_name = 'Dani'\n",
    "second_name = 'Gal'\n",
    "third_name = 'Alon'\n",
    "fourth_name = 'Tamir'\n",
    "\n",
    "name_list = [first_name, second_name, third_name, fourth_name]"
   ]
  },
  {
   "cell_type": "code",
   "execution_count": null,
   "metadata": {},
   "outputs": [],
   "source": [
    "print(name_list)\n",
    "# Lists have a length - the number of items\n",
    "len(name_list)"
   ]
  },
  {
   "cell_type": "code",
   "execution_count": null,
   "metadata": {},
   "outputs": [],
   "source": [
    "# Lists are mutable, which means we can change them\n",
    "print(names)\n",
    "names.append('Tamir')\n",
    "print(names)\n",
    "len(names)"
   ]
  },
  {
   "cell_type": "code",
   "execution_count": null,
   "metadata": {},
   "outputs": [],
   "source": [
    "# We can count a specific item occurences\n",
    "names.count('Tamir')"
   ]
  },
  {
   "cell_type": "code",
   "execution_count": null,
   "metadata": {},
   "outputs": [],
   "source": [
    "# We can access specific items by position\n",
    "print(names[0])\n",
    "print(names[1])"
   ]
  },
  {
   "cell_type": "code",
   "execution_count": null,
   "metadata": {},
   "outputs": [],
   "source": [
    "# As we can append we can also pop\n",
    "poped_name = names.pop()\n",
    "print(names)\n",
    "print(poped_name)"
   ]
  },
  {
   "cell_type": "code",
   "execution_count": null,
   "metadata": {},
   "outputs": [],
   "source": [
    "# lists can be sorted\n",
    "nums = [0,1, 5, 3, 7]\n",
    "\n",
    "nums.sort() # note this is a method on the list object\n",
    "\n",
    "print(nums)\n"
   ]
  },
  {
   "cell_type": "code",
   "execution_count": null,
   "metadata": {},
   "outputs": [],
   "source": [
    "# Lists can be reversed (But is doesn't always make sense)\n",
    "nums.reverse() # note this is a method on the list object\n",
    "print(nums)\n"
   ]
  },
  {
   "cell_type": "code",
   "execution_count": null,
   "metadata": {},
   "outputs": [],
   "source": [
    "# Lists can have a \"truthfull\" state\n",
    "print(bool(nums))\n",
    "print(bool([]))\n",
    "\n",
    "if nums:\n",
    "    print('we have items')"
   ]
  },
  {
   "cell_type": "code",
   "execution_count": null,
   "metadata": {},
   "outputs": [],
   "source": [
    "# We can add a list to another list\n",
    "first_list = ['dog','cat', 'mouse']\n",
    "second_list = ['dragon', 'chimera']\n",
    "first_list.extend(second_list)\n",
    "print(first_list)\n",
    "print(second_list)"
   ]
  },
  {
   "cell_type": "code",
   "execution_count": null,
   "metadata": {},
   "outputs": [],
   "source": [
    "# We can  slice a list by positions\n",
    "names = ['yoni', 'menashe', 'marxus']\n",
    "print(names[0:1]) # first position - **until but not including** end position\n",
    "\n",
    "print(names[-1:])"
   ]
  },
  {
   "cell_type": "code",
   "execution_count": null,
   "metadata": {},
   "outputs": [],
   "source": [
    "# We can also have steps when slicing\n",
    "numbers = [0,1,2,3,4,5,6,7,8,9]\n",
    "shmoofi = numbers[0:10:2] # third params is the step\n",
    "print(shmoofi)"
   ]
  },
  {
   "cell_type": "markdown",
   "metadata": {},
   "source": [
    "# Dict (dictionary)\n",
    "\n",
    "is a **mutable**, **unordered** set of **key-value pairs** where each key must be unique. To access a given element, we must refer to it by using its key,\n"
   ]
  },
  {
   "cell_type": "code",
   "execution_count": null,
   "metadata": {},
   "outputs": [],
   "source": [
    "# Create a dict\n",
    "#with the dict literal {}\n",
    "my_dict = {\"name\":\"alon\",\"answer\":42}\n",
    "# Is the same as using the dict constructor (because it's a class)\n",
    "another_dict = dict(name='alon',answer=42)\n",
    "print(my_dict)"
   ]
  },
  {
   "cell_type": "code",
   "execution_count": null,
   "metadata": {},
   "outputs": [],
   "source": [
    "person = {'name':'alon','age':45, 'is_here':True}\n",
    "print(person)\n",
    "\n",
    "# we can access by key\n",
    "print(person['name'])\n"
   ]
  },
  {
   "cell_type": "code",
   "execution_count": null,
   "metadata": {},
   "outputs": [],
   "source": [
    "#  Dicts have a length too\n",
    "\n",
    "len(person)\n",
    "\n"
   ]
  },
  {
   "cell_type": "code",
   "execution_count": null,
   "metadata": {},
   "outputs": [],
   "source": [
    "# Dicts have keys and values\n",
    "\n",
    "\n",
    "print(f'keys: {person.keys()}')\n",
    "\n",
    "print(f'values: {person.values()}')\n",
    "\n"
   ]
  },
  {
   "cell_type": "code",
   "execution_count": null,
   "metadata": {},
   "outputs": [],
   "source": [
    "# We can add to a dict with more keys\n",
    "person['name'] = 'nisser'\n",
    "person['nicknames'] = ['karpada']\n",
    "print(person)\n"
   ]
  },
  {
   "cell_type": "markdown",
   "metadata": {},
   "source": [
    "## We can add dicts to dicts - it's called an update:"
   ]
  },
  {
   "cell_type": "code",
   "execution_count": null,
   "metadata": {},
   "outputs": [],
   "source": [
    "# We can also update a dict (mutate it) with another dict\n",
    "\n",
    "jesse = {'username': 'JOctopus', 'online': False, 'points': 723}\n",
    "jesse.update({'followers': 481})\\\n",
    "\n",
    "print(jesse)\n"
   ]
  },
  {
   "cell_type": "code",
   "execution_count": null,
   "metadata": {},
   "outputs": [],
   "source": [
    "# Intermezzo - Let's play a game "
   ]
  },
  {
   "cell_type": "markdown",
   "metadata": {},
   "source": [
    "# List comprehensions and iterations\n",
    "\n",
    "A common pattern when working with collections like lists and dictionaries: we need to do a function on each item\n",
    "\n"
   ]
  },
  {
   "cell_type": "code",
   "execution_count": null,
   "metadata": {},
   "outputs": [],
   "source": [
    "names = ['dani','alon','roi','eyal', 'gal']\n",
    "for item in names:\n",
    "    print(item)\n"
   ]
  },
  {
   "cell_type": "code",
   "execution_count": null,
   "metadata": {},
   "outputs": [],
   "source": [
    "# Another common pattern is filtering lists\n",
    "\n",
    "nums = [0,1,2,3,4,5,6,7,8,9]\n",
    "even_nums = [x for x in nums if x % 2 == 0]\n",
    "print(even_nums)\n",
    "\n",
    "result = []\n",
    "for x in nums:\n",
    "    if x % 2 == 0:\n",
    "        result.append(x)\n",
    "print(result)"
   ]
  },
  {
   "cell_type": "code",
   "execution_count": null,
   "metadata": {},
   "outputs": [],
   "source": [
    "# mutating (mapping) alist\n",
    "nums = [0,1,2,3,4,5,6,7,8,9]\n",
    "def square(num):\n",
    "    return num * num\n",
    "square_nums = [square(x) for x in nums]\n",
    "print(square_nums)\n"
   ]
  },
  {
   "cell_type": "code",
   "execution_count": null,
   "metadata": {},
   "outputs": [],
   "source": [
    "# This also works \"mapping\" and filtering together\n",
    "square_nums = [square(x) for x in nums if x % 2 == 0]\n",
    "print(square_nums)"
   ]
  },
  {
   "cell_type": "markdown",
   "metadata": {},
   "source": [
    "# Dict comprehensions and iterations\n"
   ]
  },
  {
   "cell_type": "code",
   "execution_count": null,
   "metadata": {},
   "outputs": [],
   "source": [
    "# We can iterate on a dict like a list\n",
    "\n",
    "person = dict(name=\"alon\", age=45)\n",
    "for key, value in person.items(): # note items which actually returns a list of \"pairs\"\n",
    "    print(key, value)\n"
   ]
  },
  {
   "cell_type": "code",
   "execution_count": 3,
   "metadata": {},
   "outputs": [],
   "source": [
    "# What if it's a list of dicts - how can we iterate on it? \n",
    "row_data = [{\"number\":5, \"letter\":\"A\"}, {\"number\":2, \"letter\":\"B\"}, {\"number\":3, \"letter\":\"C\"}] "
   ]
  },
  {
   "cell_type": "markdown",
   "metadata": {},
   "source": [
    "# Iteration sampling"
   ]
  },
  {
   "cell_type": "markdown",
   "metadata": {},
   "source": [
    "\n",
    "## lets practice \n",
    "1. return a list containing all the letters\n",
    "2. return a list containing all elements wher \"number\" is greater then 2"
   ]
  },
  {
   "cell_type": "code",
   "execution_count": null,
   "metadata": {},
   "outputs": [],
   "source": [
    "# Pythonic Intermezzo\n",
    "# While doing this is common coming from other langauges:\n",
    "even_nums = []\n",
    "for x in nums:\n",
    "    if x % 2 == 0:\n",
    "        even_nums.append(x)\n",
    "print(even_nums)\n",
    "# Is possible, it's not the pythonic way to do this.. but this one\n",
    "comprehension_even_nums = [x for x in nums if x % 2 == 0]\n",
    "print(comprehension_even_nums)"
   ]
  },
  {
   "cell_type": "markdown",
   "metadata": {},
   "source": [
    "## Choosing the right data structure"
   ]
  },
  {
   "cell_type": "markdown",
   "metadata": {},
   "source": [
    "### Write sample data structures for the library with sample data for the following use cases\n",
    "\n",
    "1. Books in the library, each book has few regular properties\n",
    "2. Books catalogic numbers the library has been asked for\n",
    "3. for each book the number of times it was borrowed \n",
    "4. for a specific book some few properties, one of them is the dates it was returned"
   ]
  },
  {
   "cell_type": "markdown",
   "metadata": {},
   "source": [
    "## For the reader - learn how to do a dict comprehension"
   ]
  },
  {
   "cell_type": "markdown",
   "metadata": {},
   "source": [
    "# Extra reading\n",
    "\n",
    "* [lists](https://www.geeksforgeeks.org/python-list/)\n",
    "* [dicts](https://www.geeksforgeeks.org/python-dictionary/)\n",
    "* [Python docs data stuctures tutorial](https://docs.python.org/3/tutorial/datastructures.html)\n"
   ]
  },
  {
   "cell_type": "markdown",
   "metadata": {},
   "source": [
    "# Learn python!\n",
    "\n",
    "* [How to code in python book](https://www.digitalocean.com/community/books/digitalocean-ebook-how-to-code-in-python) Relevant chapters for today 22-26"
   ]
  }
 ],
 "metadata": {
  "kernelspec": {
   "display_name": "Python 3",
   "language": "python",
   "name": "python3"
  },
  "language_info": {
   "codemirror_mode": {
    "name": "ipython",
    "version": 3
   },
   "file_extension": ".py",
   "mimetype": "text/x-python",
   "name": "python",
   "nbconvert_exporter": "python",
   "pygments_lexer": "ipython3",
   "version": "3.8.1"
  }
 },
 "nbformat": 4,
 "nbformat_minor": 4
}
